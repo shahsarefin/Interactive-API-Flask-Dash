{
 "cells": [
  {
   "cell_type": "code",
   "execution_count": 1,
   "id": "2e09fd5b-dce1-43da-82dc-a75e18e0fa2b",
   "metadata": {},
   "outputs": [
    {
     "name": "stdout",
     "output_type": "stream",
     "text": [
      "Image converted and saved to Data/converted_image.png\n",
      "Data generation successful.\n"
     ]
    },
    {
     "data": {
      "application/json": [
       {
        "Address": "94744 Melissa Inlet Suite 377\nRonaldbury, OK 02914",
        "Email": "reidedward@example.org",
        "Name": "Bradley Smith",
        "Phone Number": "001-655-214-4362x4624"
       },
       {
        "Address": "245 Jessica Shoal\nWest Nicholas, UT 90021",
        "Email": "fowens@example.com",
        "Name": "Sandy Christensen",
        "Phone Number": "444.273.5260"
       },
       {
        "Address": "69044 Savannah Walks Apt. 820\nWilsonstad, WI 32968",
        "Email": "amandacase@example.net",
        "Name": "Jason Lyons",
        "Phone Number": "609-209-7079x329"
       },
       {
        "Address": "PSC 5857, Box 1390\nAPO AP 46007",
        "Email": "jonesdaniel@example.com",
        "Name": "Jacob Turner",
        "Phone Number": "001-353-216-8761x6752"
       },
       {
        "Address": "33337 Thomas Springs\nPort Vanessaview, CT 43635",
        "Email": "mark67@example.com",
        "Name": "Samantha Ortiz",
        "Phone Number": "(668)709-0238x0040"
       }
      ],
      "text/plain": [
       "<IPython.core.display.JSON object>"
      ]
     },
     "metadata": {
      "application/json": {
       "expanded": false,
       "root": "root"
      }
     },
     "output_type": "display_data"
    }
   ],
   "source": [
    "import requests\n",
    "from IPython.display import Image, display, JSON\n",
    "import os\n",
    "\n",
    "# Base URL \n",
    "base_url = 'http://127.0.0.1:5000'\n",
    "\n",
    "def convert_image(image_path, output_format='PNG'):\n",
    "    convert_url = f\"{base_url}/convert\"\n",
    "    image_filename = os.path.basename(image_path)\n",
    "    \n",
    "    with open(image_path, 'rb') as file:\n",
    "        files = {'image': (image_filename, file, 'image/jpeg')}\n",
    "        data = {'output_format': output_format}\n",
    "        response = requests.post(convert_url, files=files, data=data)\n",
    "        \n",
    "    if response.ok:\n",
    "        converted_image_path = os.path.join(os.path.dirname(image_path), f'converted_image.{output_format.lower()}')\n",
    "        with open(converted_image_path, 'wb') as f:\n",
    "            f.write(response.content)\n",
    "        print(f\"Image converted and saved to {converted_image_path}\")\n",
    "        return converted_image_path\n",
    "    else:\n",
    "        print(f\"Failed to convert image. Status Code: {response.status_code}\")\n",
    "        return None\n",
    "\n",
    "def generate_data(dataset, quantity):\n",
    "    generate_data_url = f\"{base_url}/generate_data\"\n",
    "    data = {'dataset': dataset, 'quantity': quantity}\n",
    "    response = requests.post(generate_data_url, data=data)\n",
    "    \n",
    "    if response.ok:\n",
    "        print(\"Data generation successful.\")\n",
    "        display(JSON(response.json()))\n",
    "    else:\n",
    "        print(f\"Failed to generate data. Status Code: {response.status_code}\")\n",
    "\n",
    "\n",
    "image_path = os.path.join('Data', 'astronaut-with-pencil.jpeg') \n",
    "converted_image_path = convert_image(image_path)\n",
    "\n",
    "generate_data('personal_info', 5)\n"
   ]
  },
  {
   "cell_type": "code",
   "execution_count": null,
   "id": "2ddca297-2850-4c68-860b-40d2085c17b5",
   "metadata": {},
   "outputs": [],
   "source": []
  }
 ],
 "metadata": {
  "kernelspec": {
   "display_name": "Python 3 (ipykernel)",
   "language": "python",
   "name": "python3"
  },
  "language_info": {
   "codemirror_mode": {
    "name": "ipython",
    "version": 3
   },
   "file_extension": ".py",
   "mimetype": "text/x-python",
   "name": "python",
   "nbconvert_exporter": "python",
   "pygments_lexer": "ipython3",
   "version": "3.11.4"
  }
 },
 "nbformat": 4,
 "nbformat_minor": 5
}
