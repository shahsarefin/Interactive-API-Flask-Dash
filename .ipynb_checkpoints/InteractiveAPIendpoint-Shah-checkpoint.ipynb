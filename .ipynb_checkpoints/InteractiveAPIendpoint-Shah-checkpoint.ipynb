{
 "cells": [
  {
   "cell_type": "code",
   "execution_count": 19,
   "id": "2e09fd5b-dce1-43da-82dc-a75e18e0fa2b",
   "metadata": {},
   "outputs": [
    {
     "name": "stdout",
     "output_type": "stream",
     "text": [
      "Image conversion successful. Converted image saved to Data/converted_image.png\n"
     ]
    },
    {
     "data": {
      "image/png": "[encoded data removed]",
      "text/plain": [
       "<IPython.core.display.Image object>"
      ]
     },
     "metadata": {},
     "output_type": "display_data"
    },
    {
     "name": "stdout",
     "output_type": "stream",
     "text": [
      "Data generation successful.\n"
     ]
    },
    {
     "data": {
      "application/json": [
       {
        "Address": "34940 May Harbors Apt. 671\nWest Brookeville, MP 27516",
        "Email": "christian95@example.org",
        "Name": "Hayley Castillo",
        "Phone Number": "616.969.9029x048"
       },
       {
        "Address": "500 Schneider Oval\nGarciaview, DE 34645",
        "Email": "mpreston@example.com",
        "Name": "Edward Benitez",
        "Phone Number": "404.807.5502"
       },
       {
        "Address": "8798 Leonard Place Suite 380\nTranburgh, FL 08783",
        "Email": "berryhayley@example.org",
        "Name": "Victor Cain",
        "Phone Number": "(885)266-4215x4963"
       },
       {
        "Address": "805 Curry Radial\nSouth Alejandro, VI 56680",
        "Email": "warrenantonio@example.net",
        "Name": "Justin Vasquez",
        "Phone Number": "(390)280-2221"
       },
       {
        "Address": "7869 James Fords\nKathrynchester, WV 22349",
        "Email": "teresacastro@example.com",
        "Name": "Christine Hart",
        "Phone Number": "001-828-763-4881x734"
       }
      ],
      "text/plain": [
       "<IPython.core.display.JSON object>"
      ]
     },
     "metadata": {
      "application/json": {
       "expanded": false,
       "root": "root"
      }
     },
     "output_type": "display_data"
    }
   ],
   "source": [
    "import requests\n",
    "from IPython.display import Image, display, JSON\n",
    "import os\n",
    "\n",
    "# Base URL \n",
    "base_url = 'http://127.0.0.1:5000'\n",
    "\n",
    "# Function to convert an image \n",
    "def convert_image(image_path, output_format='PNG'):\n",
    "    convert_url = f\"{base_url}/convert\"\n",
    "    \n",
    "    image_filename = os.path.basename(image_path)\n",
    "    \n",
    "    with open(image_path, 'rb') as file:\n",
    "        files = {'image': (image_filename, file, 'image/jpeg')}\n",
    "        data = {'output_format': output_format}\n",
    "        response = requests.post(convert_url, files=files, data=data)\n",
    "        \n",
    "    if response.ok:\n",
    "        # The converted image is saved to the same directory as the original image\n",
    "        converted_image_path = os.path.join(os.path.dirname(image_path), f'converted_image.{output_format.lower()}')\n",
    "        with open(converted_image_path, 'wb') as f:\n",
    "            f.write(response.content)\n",
    "        print(f\"Image conversion successful. Converted image saved to {converted_image_path}\")\n",
    "        return converted_image_path\n",
    "    else:\n",
    "        print(f\"Failed to convert image. Status Code: {response.status_code}. Response: {response.text}\")\n",
    "        return None\n",
    "\n",
    "# Function to generate data \n",
    "def generate_data(dataset, quantity):\n",
    "    generate_data_url = f\"{base_url}/generate_data\"\n",
    "    data = {'dataset': dataset, 'quantity': quantity}\n",
    "    response = requests.post(generate_data_url, data=data)\n",
    "    \n",
    "    if response.ok:\n",
    "        print(\"Data generation successful.\")\n",
    "        display(JSON(response.json()))\n",
    "    else:\n",
    "        print(f\"Failed to generate data. Status Code: {response.status_code}. Response: {response.text}\")\n",
    "\n",
    "\n",
    "image_path = os.path.join('Data', 'astronaut-with-pencil.jpeg')\n",
    "converted_image_path = convert_image(image_path)\n",
    "\n",
    "if converted_image_path:\n",
    "    display(Image(filename=converted_image_path))\n",
    "\n",
    "generate_data('personal_info', 5)\n"
   ]
  },
  {
   "cell_type": "code",
   "execution_count": null,
   "id": "2ddca297-2850-4c68-860b-40d2085c17b5",
   "metadata": {},
   "outputs": [],
   "source": []
  }
 ],
 "metadata": {
  "kernelspec": {
   "display_name": "Python 3 (ipykernel)",
   "language": "python",
   "name": "python3"
  },
  "language_info": {
   "codemirror_mode": {
    "name": "ipython",
    "version": 3
   },
   "file_extension": ".py",
   "mimetype": "text/x-python",
   "name": "python",
   "nbconvert_exporter": "python",
   "pygments_lexer": "ipython3",
   "version": "3.11.4"
  }
 },
 "nbformat": 4,
 "nbformat_minor": 5
}
